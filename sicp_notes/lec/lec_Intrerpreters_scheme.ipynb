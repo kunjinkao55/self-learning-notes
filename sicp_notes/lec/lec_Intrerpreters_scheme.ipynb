{
 "cells": [
  {
   "cell_type": "markdown",
   "metadata": {},
   "source": [
    "Scheme"
   ]
  },
  {
   "cell_type": "markdown",
   "metadata": {},
   "source": [
    "main idea :REP Loop\n",
    "string->R.E.P(读取计算输出)->string"
   ]
  },
  {
   "cell_type": "code",
   "execution_count": null,
   "metadata": {},
   "outputs": [],
   "source": []
  },
  {
   "cell_type": "markdown",
   "metadata": {},
   "source": [
    "step:\n",
    "1.词法分析:合法字符转化为单词\n",
    "2.语法分析：获得合法输入->转换为解释器语言能够理解的expression(form scheme to python)\n",
    "eg:\"#t\"->\"True\"\n",
    "可以使用链表表示scheme的(<operator> <operand1> <operand2> ...)"
   ]
  },
  {
   "cell_type": "code",
   "execution_count": null,
   "metadata": {},
   "outputs": [],
   "source": [
    "class Pair:\n",
    "    def __init__(self,first,second):\n",
    "        self.first=first\n",
    "        self.second=second\n",
    "    def __repe__(self):\n",
    "        return f\"Pair({self.first},{self.second})\""
   ]
  },
  {
   "cell_type": "code",
   "execution_count": null,
   "metadata": {},
   "outputs": [],
   "source": [
    "class nil:\n",
    "    def __repr__(self):\n",
    "        return ' nil'\n",
    "    \n",
    "nil=nil()\n",
    "#这里同名小写，之后nil_instance覆盖nil_class，因为没有必要为nil重复创造instance"
   ]
  },
  {
   "cell_type": "markdown",
   "metadata": {},
   "source": [
    "Evaluator:\n",
    "Base case :\n",
    "字面值/绑定值的变量名\n",
    "Recursive case:\n",
    "递归"
   ]
  },
  {
   "cell_type": "code",
   "execution_count": null,
   "metadata": {},
   "outputs": [],
   "source": [
    "#期末考试可能会考\n",
    "#计算eval次数可以这么算吗 每个有效单元前都 add1\n",
    "'''\n",
    "Counting eval/apply calls: built-in procedures\n",
    "How many calls to eval and apply are made \n",
    "in order to evaluate this expression? (+ 2 (* 4 1) 5)\n",
    "● eval(Pair(‘+’, \n",
    "Pair(2, \n",
    "Pair(Pair(‘*’, Pair(4, Pair(1, nil))), \n",
    "Pair(5, nil)))))\n",
    "○ eval(‘+’)\n",
    "○ eval(2)\n",
    "○ eval(Pair(‘*’, Pair(4, Pair(1, nil))))\n",
    "■ eval(‘*’)\n",
    "■ eval(4)\n",
    "■ eval(1)\n",
    "■ apply(BuiltinProc(scheme_mul), [4, 1])\n",
    "○ eval(5)\n",
    "○ apply(BuiltinProc(scheme_add), [2, 4, 5])\n",
    "# calls:\n",
    "eval: 8\n",
    "apply: 2Counting eval/apply calls: user-defined procedures\n",
    "How many calls to eval and apply are made \n",
    "in order to evaluate the second expression?\n",
    "(Assume the define expression has already \n",
    "been evaluated.)\n",
    "(define (f x) (+ x 1))\n",
    "(* (f 3) 2)\n",
    "● eval(Pair(‘*’, \n",
    "Pair(Pair(‘f’, Pair(3, nil))\n",
    "Pair(2, nil)))) \n",
    "○ eval(‘*’)\n",
    "○ eval(Pair(‘f’, Pair(3, nil)))\n",
    "■ eval(‘f’)\n",
    "■ eval(3)\n",
    "■ apply(λ, 3)\n",
    "● eval(Pair('+', Pair('x', Pair(1, nil))))\n",
    "○ eval('+')\n",
    "○ eval('x')\n",
    "○ eval(1)\n",
    "○ apply(BuiltinProc(scheme_add), [3, 1])\n",
    "○ eval(2)\n",
    "○ apply(BuiltinProc(scheme_mul), [4, 2])\n",
    "# calls:\n",
    "eval: 10\n",
    "apply: 3\n",
    "'''"
   ]
  },
  {
   "cell_type": "code",
   "execution_count": null,
   "metadata": {},
   "outputs": [],
   "source": []
  }
 ],
 "metadata": {
  "kernelspec": {
   "display_name": "Python 3",
   "language": "python",
   "name": "python3"
  },
  "language_info": {
   "name": "python",
   "version": "3.12.8"
  }
 },
 "nbformat": 4,
 "nbformat_minor": 2
}
