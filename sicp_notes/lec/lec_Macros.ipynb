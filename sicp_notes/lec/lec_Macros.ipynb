{
 "cells": [
  {
   "cell_type": "markdown",
   "metadata": {},
   "source": [
    "Macros \n"
   ]
  },
  {
   "cell_type": "markdown",
   "metadata": {},
   "source": [
    "\n",
    "scm> ('(+ 1 2))\n",
    "Traceback (most recent call last):\n",
    " 0\t((quote (+ 1 2)))\n",
    "Error: pair is not callable: (+ 1 2)\n",
    "scm> '(+ 1 2)\n",
    "(+ 1 2)\n",
    "scm> (eval '(+ 1 2))\n",
    "3 \n",
    "scm> (list '/ 10 2)\n",
    "(/ 10 2) \n",
    "scm> (eval (list '/ 10 2))\n",
    "5 \n",
    "scm> (define x 2)\n",
    "x \n",
    "scm> (list '+ x 2)\n",
    "(+ 2 2) \n",
    "scm> (list '(+ x 2))\n",
    "((+ x 2)) \n",
    "scm> (list '+ 'x 2)\n",
    "(+ x 2) \n",
    "scm> (eval (list '(+ x 2)))\n",
    "Traceback (most recent call last):\n",
    " 0\t(eval (list (quote (+ x 2))))\n",
    " 1\t((+ x 2))\n",
    " Error: int is not callable: 4\n",
    "scm> (eval (list '+ 'x 2))\n",
    "4\n",
    "scm> (list / 10 2)\n",
    "(#[/] 10 2)\n",
    "scm> (eval (list / 10 2))\n",
    "Traceback (most recent call last):\n",
    " 0\t(eval (list / 10 2))\n",
    " 1\t(#[/] 10 2)\n",
    " 2\t#[/]\n",
    "Error: malformed list: #[/]"
   ]
  },
  {
   "cell_type": "markdown",
   "metadata": {},
   "source": [
    "Begin 不是局部函数，对全局有影响\n",
    "多个表达式依次求值，返回最后一个\n",
    "\n",
    "scm>(begin 3 2 1)\n",
    "1\n",
    "scm> (begin (define x 2) (define x (+ x 1)) x)\n",
    "3\n"
   ]
  },
  {
   "cell_type": "markdown",
   "metadata": {},
   "source": [
    "Let 先绑定symbol，再运行func body\n",
    "(let ((symbol1 expr1); let内部的临时绑定\n",
    "      (symbol2 expr2) ;这里的所有绑定顺序是并行的，假定每个相互独立\n",
    "…)\n",
    "body)\n",
    "\n",
    "scm> (let ((x 2)\n",
    "(y 3))\n",
    "(+ x y))\n",
    "5"
   ]
  },
  {
   "cell_type": "markdown",
   "metadata": {},
   "source": [
    "define-macro\n",
    "传入参数表达式时不求值,把表达式传入body变换后再求值\n",
    "\n",
    "传入一个expr 把expr改写成函数体的样子，然后eval\n",
    "\n",
    "scm> (define-macro (twice expr)\n",
    "     (list 'begin expr expr))\n",
    "twice\n",
    "scm> (twice (print 2))\n",
    "2\n",
    "2\n",
    "scm> (begin (print 2) (print 2))\n",
    "2\n",
    "2\n"
   ]
  },
  {
   "cell_type": "markdown",
   "metadata": {},
   "source": [
    "scm>(define-macro (add-to x value)\n",
    "    (list 'define 'x (list '+ (eval  value) x)))   \n",
    "add-to\n",
    "scm> (add-to x ( + 1 2))\n",
    "x\n",
    "scm> x\n",
    "4"
   ]
  },
  {
   "cell_type": "markdown",
   "metadata": {},
   "source": [
    "scm> (define-macro (add-to var expr)\n",
    "...> (list 'define var (list '+ var expr)))\n",
    "add-to\n",
    "\n",
    "scm> (add-to 2 (+ 4 5))\n",
    "Traceback (most recent call last):\n",
    " 0\t(add-to 2 (+ 4 5))\n",
    " 1\t(define 2 (+ 2 (+ 4 5)))\n",
    "Error: non-symbol: 2\n",
    "scm> (define x 2)\n",
    "x\n",
    "scm> (add-to x (+ 4 5))\n",
    "x\n",
    "scm> x\n",
    "11\n",
    "\n"
   ]
  },
  {
   "cell_type": "markdown",
   "metadata": {},
   "source": [
    "Map\n",
    "(map <func> <list>)\n",
    "***return a list,which apply func in every elem in list***\n"
   ]
  },
  {
   "cell_type": "markdown",
   "metadata": {},
   "source": [
    "scm> (for x in '(1 2 3 4) do (* x x))\n",
    "(1 4 9 16)\n",
    "scm> (map (lambda (x) (* x x)) '(1 2 3 4))\n",
    "(1 4 9 16)\n",
    "\n",
    "(define-macro (for sym in vals do expr)\n",
    "(list 'map (list 'lambda (list sym) expr) vals))\n",
    "***;for is real name,\"in\" and \"do\" just take place***\n",
    "***return value : (  map (lambda(sym) <expr>) vals  ) ***"
   ]
  },
  {
   "cell_type": "markdown",
   "metadata": {},
   "source": [
    "Quasi-Quotation"
   ]
  },
  {
   "cell_type": "markdown",
   "metadata": {},
   "source": [
    "对部分表达式求值，部分表达式保留的简写方法"
   ]
  },
  {
   "cell_type": "markdown",
   "metadata": {},
   "source": [
    "(define-macro (for sym vals expr)\n",
    "(list 'map (list 'lambda (list sym) expr) vals))\n",
    "等价于\n",
    "(define-macro (for sym vals expr)\n",
    "`(map (lambda (,sym) ,expr) ,vals))\n",
    " *** ,求值   '全部保留    `非,保留 ***"
   ]
  },
  {
   "cell_type": "markdown",
   "metadata": {},
   "source": [
    "scm> (define x 3)\n",
    "x\n",
    "scm> '(1 ,x 3)\n",
    "(1 (unquote x) 3)"
   ]
  },
  {
   "cell_type": "markdown",
   "metadata": {},
   "source": [
    "短路\n"
   ]
  },
  {
   "cell_type": "markdown",
   "metadata": {},
   "source": [
    "scm> (define-macro (f x) (car x))\n",
    "f\n",
    "scm> (f (+ 2 3))\n",
    "#[+]\n",
    "scm>  (define x 2000)\n",
    "x\n",
    "scm> (f (x y z))\n",
    "2000\n",
    "scm> y\n",
    "Traceback (most recent call last):\n",
    "scm> y\t\n",
    "Error: unknown identifier: y\n",
    "\n"
   ]
  }
 ],
 "metadata": {
  "kernelspec": {
   "display_name": "Python 3",
   "language": "python",
   "name": "python3"
  },
  "language_info": {
   "name": "python",
   "version": "3.12.8"
  }
 },
 "nbformat": 4,
 "nbformat_minor": 2
}
