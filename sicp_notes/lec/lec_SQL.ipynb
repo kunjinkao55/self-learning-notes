{
 "cells": [
  {
   "cell_type": "markdown",
   "metadata": {},
   "source": [
    "SQL"
   ]
  },
  {
   "cell_type": "markdown",
   "metadata": {},
   "source": [
    "CREATE TABLE acities AS\n",
    " SELECT 1 AS a,2 AS b, \"ccc\" AS c UNION\n",
    " SELECT 5 ,    6      ,\"asa\";"
   ]
  },
  {
   "cell_type": "markdown",
   "metadata": {},
   "source": [
    "sql> CREATE TABLE dog AS\n",
    "...> SELECT \"Peter\" AS male,\"Meg\" AS female UNION\n",
    "...> SELECT \"st\"    AS male,\"sxs\" AS female;\n",
    "sql> SELECT male\n",
    "...> FROM dog"
   ]
  },
  {
   "cell_type": "markdown",
   "metadata": {},
   "source": [
    "删除列表操作"
   ]
  },
  {
   "cell_type": "markdown",
   "metadata": {},
   "source": [
    "DROP TABLE IF EXISTS dog;"
   ]
  }
 ],
 "metadata": {
  "language_info": {
   "name": "python"
  }
 },
 "nbformat": 4,
 "nbformat_minor": 2
}
