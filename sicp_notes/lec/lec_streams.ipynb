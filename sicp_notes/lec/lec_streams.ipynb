{
 "cells": [
  {
   "cell_type": "markdown",
   "metadata": {},
   "source": [
    "Streams\n"
   ]
  },
  {
   "cell_type": "markdown",
   "metadata": {},
   "source": [
    "1 cons-stream"
   ]
  },
  {
   "cell_type": "markdown",
   "metadata": {},
   "source": [
    "the return value of (cons-stream a b) is (a,#I promise i would eval b)"
   ]
  },
  {
   "cell_type": "markdown",
   "metadata": {},
   "source": [
    "1-1 cdr-stream  the cdr of cons-stream"
   ]
  },
  {
   "cell_type": "markdown",
   "metadata": {},
   "source": [
    "scm> (cons-stream 1 2)\n",
    "(1 . #[promise (not forced)])"
   ]
  },
  {
   "cell_type": "markdown",
   "metadata": {},
   "source": [
    "非惰性求值会爆栈\n",
    "(define (ints first)\n",
    "    (cons first\n",
    "        (ints (+ first 1))))\n",
    "\n",
    "scm> (ints 1)\n",
    "maximum recursion depth exceeded"
   ]
  },
  {
   "cell_type": "markdown",
   "metadata": {},
   "source": [
    "(define (ints first)\n",
    "(cons-stream first\n",
    "(      ints (+ first 1))))\n",
    "\n",
    "scm> (ints 1)\n",
    "(1 . #[promise (not forced)])"
   ]
  },
  {
   "cell_type": "markdown",
   "metadata": {},
   "source": [
    "\n",
    "(define (search inx x)\n",
    " ( if( = inx 1)\n",
    "(car (cdr-stream x))\n",
    " (search (- inx 1) (cdr-stream x))))"
   ]
  },
  {
   "cell_type": "markdown",
   "metadata": {},
   "source": [
    "2 delay and force"
   ]
  },
  {
   "cell_type": "raw",
   "metadata": {
    "vscode": {
     "languageId": "raw"
    }
   },
   "source": [
    "scm> delay\n",
    "Traceback (most recent call last):\n",
    " 0\tdelay\n",
    "Error: unknown identifier: delay\n",
    "\n",
    "scm> (delay (print 5))\n",
    "#[promise (not forced)]\n",
    "\n",
    "scm> force\n",
    "#[force]\n",
    "\n",
    "scm> (force (delay (print 5)))\n",
    "5"
   ]
  },
  {
   "cell_type": "markdown",
   "metadata": {},
   "source": [
    "delay不是函数，因为delay的功能是封装表达式而不是输出一个值"
   ]
  },
  {
   "cell_type": "markdown",
   "metadata": {},
   "source": [
    "scm> (define box5 (delay (print 5)))\n",
    "box5\n",
    "\n",
    "scm> box5\n",
    "#[promise (not forced)]\n",
    "\n",
    "scm> (force box5)\n",
    "5\n",
    "\n",
    "scm> box5\n",
    "#[promise (forced)]\n",
    "scm> \n"
   ]
  },
  {
   "cell_type": "markdown",
   "metadata": {},
   "source": [
    "forced 和 not forced :forced表示该封装已经被force过"
   ]
  },
  {
   "cell_type": "markdown",
   "metadata": {},
   "source": [
    "回看 cdr-stream: 类似于cdr + force\n",
    "\n",
    "scm> (define a (int 0))\n",
    "a\n",
    "scm> a\n",
    "(0 . #[promise (not forced)])\n",
    "scm> (cdr-stream a)\n",
    "(1 . #[promise (not forced)])\n",
    "scm> (cdr-stream a)\n",
    "(1 . #[promise (not forced)])\n",
    "scm> (cdr a)\n",
    "#[promise (forced)]\n",
    "scm> (define b (int 0))\n",
    "b\n",
    "scm> (force (cdr b))\n",
    "(1 . #[promise (not forced)])"
   ]
  },
  {
   "cell_type": "markdown",
   "metadata": {},
   "source": [
    "(define (add-stream s1 s2) \n",
    "     (cons-stream ( + ( car s1) (car s2)) (add-stream  (cdr-stream s1) (cdr-stream s2) )))"
   ]
  },
  {
   "cell_type": "markdown",
   "metadata": {},
   "source": [
    "(define (map-stream  f s)\n",
    "    (   \n",
    "        if(null? s)\n",
    "        nil\n",
    "        (cons-stream (f (car s))\n",
    "        (map-stream f (cdr-stream s)))))\n",
    "\n",
    " (define (map-stream fn s)\n",
    "(if (null? s)\n",
    "nil\n",
    "(cons-stream (fn (car s))\n",
    "(map-stream fn (cdr-stream s)))))"
   ]
  },
  {
   "cell_type": "markdown",
   "metadata": {},
   "source": []
  },
  {
   "cell_type": "markdown",
   "metadata": {},
   "source": [
    "scm> (define nums (cons-stream 1 (cons-stream (f 3) (cons-stream (f 5) nil))))\n",
    "scm> (define (f x) (+ x 1))\n",
    "scm>  (cdr-stream nums)\n",
    "4\n",
    "(define (f x)(+ x 2))\n",
    "scm>  (cdr-stream nums)\n",
    "4 ;这里改变了f,但是第二个的stream已经是forced的状态，所以不会再重新计算\n",
    "scm> (cdr-stream (cdr-stream nums));而第三个的stream是未forced的状态，所以会重新计算\n",
    "7"
   ]
  }
 ],
 "metadata": {
  "kernelspec": {
   "display_name": "Python 3",
   "language": "python",
   "name": "python3"
  },
  "language_info": {
   "name": "python",
   "version": "3.12.8"
  }
 },
 "nbformat": 4,
 "nbformat_minor": 2
}
