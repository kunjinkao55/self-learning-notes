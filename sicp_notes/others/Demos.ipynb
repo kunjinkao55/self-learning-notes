{
 "cells": [
  {
   "cell_type": "markdown",
   "id": "a592f95a-4313-457e-a240-7116aa820be8",
   "metadata": {},
   "source": [
    "# Python 学习资料\n",
    "\n",
    "**网站**：\n",
    "- [😀Offical Python Docs](https://docs.python.org/zh-cn/3/)\n",
    "- [😀第三方-菜鸟教程-Python3](https://www.runoob.com/python3/python3-tutorial.html)\n",
    "- [😀第三方-廖雪峰教程-Python3](https://liaoxuefeng.com/books/python/introduction/index.html)\n",
    "\n",
    "**书籍**：\n",
    "- [《Python 编程：从入门到实践》](https://book.douban.com/subject/36365320/)\n",
    "\n",
    "**工具**：\n",
    "- [PythonTutor](https://pythontutor.com/)"
   ]
  },
  {
   "cell_type": "markdown",
   "id": "c97c76b3-7a02-4321-8b3a-0e8a9b86713d",
   "metadata": {},
   "source": [
    "# Demo 1"
   ]
  },
  {
   "cell_type": "markdown",
   "id": "f7a53242-b3eb-49a3-ac85-255f4e39324b",
   "metadata": {},
   "source": [
    "## Demo 1.1\n",
    "\n",
    "函数式编程"
   ]
  },
  {
   "cell_type": "code",
   "execution_count": 1,
   "id": "aa335a8c-26e5-4094-b76c-ffebd82961ab",
   "metadata": {},
   "outputs": [
    {
     "name": "stdout",
     "output_type": "stream",
     "text": [
      "<class 'builtin_function_or_method'>\n"
     ]
    }
   ],
   "source": [
    "print(type(abs))"
   ]
  },
  {
   "cell_type": "code",
   "execution_count": 13,
   "id": "f463d124-bcb0-45e9-afb1-5b2bddc6308c",
   "metadata": {},
   "outputs": [
    {
     "name": "stdout",
     "output_type": "stream",
     "text": [
      "[-99, -98, -97, -96, -95, -94, -93, -92, -91, -90, -89, -88, -87, -86, -85, -84, -83, -82, -81, -80, -79, -78, -77, -76, -75, -74, -73, -72, -71, -70, -69, -68, -67, -66, -65, -64, -63, -62, -61, -60, -59, -58, -57, -56, -55, -54, -53, -52, -51, -50, -49, -48, -47, -46, -45, -44, -43, -42, -41, -40, -39, -38, -37, -36, -35, -34, -33, -32, -31, -30, -29, -28, -27, -26, -25, -24, -23, -22, -21, -20, -19, -18, -17, -16, -15, -14, -13, -12, -11, -10, -9, -8, -7, -6, -5, -4, -3, -2, -1]\n"
     ]
    }
   ],
   "source": [
    "lst_obj = list(range(-99, 0, 1))\n",
    "print(lst_obj)"
   ]
  },
  {
   "cell_type": "code",
   "execution_count": 14,
   "id": "7761563e-cef2-45c1-8f5d-c53543cb4fa4",
   "metadata": {},
   "outputs": [
    {
     "name": "stdout",
     "output_type": "stream",
     "text": [
      "[-1, -2, -3, -4, -5, -6, -7, -8, -9, -10, -11, -12, -13, -14, -15, -16, -17, -18, -19, -20, -21, -22, -23, -24, -25, -26, -27, -28, -29, -30, -31, -32, -33, -34, -35, -36, -37, -38, -39, -40, -41, -42, -43, -44, -45, -46, -47, -48, -49, -50, -51, -52, -53, -54, -55, -56, -57, -58, -59, -60, -61, -62, -63, -64, -65, -66, -67, -68, -69, -70, -71, -72, -73, -74, -75, -76, -77, -78, -79, -80, -81, -82, -83, -84, -85, -86, -87, -88, -89, -90, -91, -92, -93, -94, -95, -96, -97, -98, -99]\n"
     ]
    }
   ],
   "source": [
    "print(sorted(lst_obj, key=abs))"
   ]
  },
  {
   "cell_type": "markdown",
   "id": "df662bcb-9c29-452c-8708-861d446fe27f",
   "metadata": {},
   "source": [
    "面向对象编程"
   ]
  },
  {
   "cell_type": "code",
   "execution_count": 4,
   "id": "ef20894c-6bd8-48bf-9b88-89176e96546b",
   "metadata": {},
   "outputs": [],
   "source": [
    "from typing import Any\n",
    "\n",
    "class Person:\n",
    "    def __init__(self: Any, name: str, age: int) -> None:\n",
    "        self.name: str = name\n",
    "        self.age: int = age\n",
    "\n",
    "    def modify_name(self: Any, new_name: str) -> None:\n",
    "        self.name = new_name\n",
    "\n",
    "    def show_personal_info(self: Any) -> None:\n",
    "        print(f\"My name is {self.name};\")\n",
    "        print(f\"My age is {self.age};\")"
   ]
  },
  {
   "cell_type": "code",
   "execution_count": 5,
   "id": "722985ae-d6ac-452c-90aa-4686484f3ffa",
   "metadata": {},
   "outputs": [],
   "source": [
    "person1 = Person(\"Tony\", 18)"
   ]
  },
  {
   "cell_type": "code",
   "execution_count": 6,
   "id": "bac6433c-9979-4b1c-913c-24aac205cfa1",
   "metadata": {},
   "outputs": [
    {
     "name": "stdout",
     "output_type": "stream",
     "text": [
      "My name is Tony;\n",
      "My age is 18;\n"
     ]
    }
   ],
   "source": [
    "person1.show_personal_info()"
   ]
  },
  {
   "cell_type": "code",
   "execution_count": 7,
   "id": "deb305b3-51f3-457e-b21d-a804b9c47106",
   "metadata": {},
   "outputs": [],
   "source": [
    "person1.modify_name(\"Tim\")"
   ]
  },
  {
   "cell_type": "code",
   "execution_count": 8,
   "id": "eafe0837-9f4f-4084-bf12-e68b31ba68ca",
   "metadata": {},
   "outputs": [
    {
     "name": "stdout",
     "output_type": "stream",
     "text": [
      "My name is Tim;\n",
      "My age is 18;\n"
     ]
    }
   ],
   "source": [
    "person1.show_personal_info()"
   ]
  },
  {
   "cell_type": "markdown",
   "id": "3c082c5a-571b-4a0c-88d1-bd3aaa172a19",
   "metadata": {},
   "source": [
    "## Demo 1.2\n",
    "\n",
    "动态类型语言"
   ]
  },
  {
   "cell_type": "code",
   "execution_count": 9,
   "id": "575e523a-af98-49a6-87ae-478317e94fbb",
   "metadata": {},
   "outputs": [
    {
     "name": "stdout",
     "output_type": "stream",
     "text": [
      "<class 'int'>\n"
     ]
    }
   ],
   "source": [
    "var = 100\n",
    "print(type(var))"
   ]
  },
  {
   "cell_type": "code",
   "execution_count": 10,
   "id": "16c338c7-57b3-4514-b1a3-797e28a25f5f",
   "metadata": {},
   "outputs": [
    {
     "name": "stdout",
     "output_type": "stream",
     "text": [
      "<class 'int'>\n",
      "<class 'list'>\n"
     ]
    }
   ],
   "source": [
    "print(type(var))\n",
    "var = [1, 2, 3]\n",
    "print(type(var))"
   ]
  },
  {
   "cell_type": "markdown",
   "id": "a081c661",
   "metadata": {},
   "source": []
  },
  {
   "cell_type": "markdown",
   "id": "f6275178-73e7-4b03-92b3-95d9cf58a1e3",
   "metadata": {},
   "source": [
    "# Demo 2"
   ]
  },
  {
   "cell_type": "markdown",
   "id": "4d1d4321-5735-4cb9-a5f9-171566308f1d",
   "metadata": {},
   "source": [
    "## Demo 2.1\n",
    "\n",
    "标识符/关键字/保留字"
   ]
  },
  {
   "cell_type": "code",
   "execution_count": 11,
   "id": "5e074868-28e0-464c-a51f-4c952e0bdebe",
   "metadata": {},
   "outputs": [],
   "source": [
    "# 正确的标识符命名\n",
    "var1 = 10\n",
    "lst_obj = list(range(10))"
   ]
  },
  {
   "cell_type": "code",
   "execution_count": 12,
   "id": "9dedc2ca-ba20-40cf-a803-99283029a97d",
   "metadata": {},
   "outputs": [
    {
     "ename": "SyntaxError",
     "evalue": "invalid decimal literal (1738213485.py, line 2)",
     "output_type": "error",
     "traceback": [
      "\u001b[1;36m  Cell \u001b[1;32mIn[12], line 2\u001b[1;36m\u001b[0m\n\u001b[1;33m    1ab = 23\u001b[0m\n\u001b[1;37m    ^\u001b[0m\n\u001b[1;31mSyntaxError\u001b[0m\u001b[1;31m:\u001b[0m invalid decimal literal\n"
     ]
    }
   ],
   "source": [
    "# 错误的标识符命名\n",
    "1ab = 23\n",
    "%da = 99\n",
    "if = 99"
   ]
  },
  {
   "cell_type": "code",
   "execution_count": 2,
   "id": "b2f4a31e-1e8d-44fd-a821-805b0430404b",
   "metadata": {},
   "outputs": [
    {
     "name": "stdout",
     "output_type": "stream",
     "text": [
      "['False', 'None', 'True', 'and', 'as', 'assert', 'async', 'await', 'break', 'class', 'continue', 'def', 'del', 'elif', 'else', 'except', 'finally', 'for', 'from', 'global', 'if', 'import', 'in', 'is', 'lambda', 'nonlocal', 'not', 'or', 'pass', 'raise', 'return', 'try', 'while', 'with', 'yield']\n"
     ]
    }
   ],
   "source": [
    "# 打印 Python 关键字/保留字\n",
    "import keyword\n",
    "\n",
    "print(keyword.kwlist)"
   ]
  },
  {
   "cell_type": "code",
   "execution_count": null,
   "id": "66d45443-2e39-4f4d-8580-31552ae89c0c",
   "metadata": {},
   "outputs": [],
   "source": [
    "print(list)\n",
    "print(list(range(10)))"
   ]
  },
  {
   "cell_type": "code",
   "execution_count": 1,
   "id": "9c3d9601-6cc9-4175-b9e7-c13c50fd1b80",
   "metadata": {},
   "outputs": [
    {
     "name": "stdout",
     "output_type": "stream",
     "text": [
      "99\n"
     ]
    },
    {
     "ename": "TypeError",
     "evalue": "'int' object is not callable",
     "output_type": "error",
     "traceback": [
      "\u001b[1;31m---------------------------------------------------------------------------\u001b[0m",
      "\u001b[1;31mTypeError\u001b[0m                                 Traceback (most recent call last)",
      "Cell \u001b[1;32mIn[1], line 3\u001b[0m\n\u001b[0;32m      1\u001b[0m \u001b[38;5;28mlist\u001b[39m \u001b[38;5;241m=\u001b[39m \u001b[38;5;241m99\u001b[39m    \u001b[38;5;66;03m# 不要使用内置类型等名称！\u001b[39;00m\n\u001b[0;32m      2\u001b[0m \u001b[38;5;28mprint\u001b[39m(\u001b[38;5;28mlist\u001b[39m)\n\u001b[1;32m----> 3\u001b[0m \u001b[38;5;28mprint\u001b[39m(\u001b[38;5;28;43mlist\u001b[39;49m\u001b[43m(\u001b[49m\u001b[38;5;28;43mrange\u001b[39;49m\u001b[43m(\u001b[49m\u001b[38;5;241;43m10\u001b[39;49m\u001b[43m)\u001b[49m\u001b[43m)\u001b[49m)\n",
      "\u001b[1;31mTypeError\u001b[0m: 'int' object is not callable"
     ]
    }
   ],
   "source": [
    "list = 99    # 不要使用内置类型等名称！\n",
    "print(list)\n",
    "print(list(range(10)))"
   ]
  },
  {
   "cell_type": "markdown",
   "id": "edd5c656-7b34-450a-b32d-569c238cdf71",
   "metadata": {},
   "source": [
    "## Demo 2.2\n",
    "\n",
    "变量"
   ]
  },
  {
   "cell_type": "code",
   "execution_count": null,
   "id": "87918ee2-e485-49da-bb88-709de073fa5c",
   "metadata": {},
   "outputs": [],
   "source": [
    "# 创建变量\n",
    "variable1 = 27.8\n",
    "variable2 = {\"Hello\":0, \"World\":1}\n",
    "\n",
    "# 改变对象指向\n",
    "variable2 = True\n",
    "\n",
    "# 获取变量类型\n",
    "print(type(variable1))              # type 不认为子类是一种父类类型\n",
    "print(isinstance(variable2, int))  # isinstance 认为子类是一种父类类型\n",
    "\n",
    "# 销毁变量及其所指的对象（程序实体）\n",
    "del variable1, variable2"
   ]
  },
  {
   "cell_type": "markdown",
   "id": "5d8789cf-3b2f-4ab6-be75-c012df8a89a6",
   "metadata": {},
   "source": [
    "## Demo 2.3\n",
    "\n",
    "常量"
   ]
  },
  {
   "cell_type": "code",
   "execution_count": null,
   "id": "2b801bdb-27c7-4640-a7c0-e3fdc229ab25",
   "metadata": {},
   "outputs": [],
   "source": [
    "CONSTANT_VAR = 10_000\n",
    "print(CONSTANT_VAR)"
   ]
  },
  {
   "cell_type": "code",
   "execution_count": null,
   "id": "6a82171f-91be-4c68-b869-b6a609f5ba3c",
   "metadata": {},
   "outputs": [],
   "source": [
    "CONSTANT_VAR = [1, 2, 3]\n",
    "print(CONSTANT_VAR)"
   ]
  },
  {
   "cell_type": "markdown",
   "id": "b6c46428-9830-4e27-ba15-4dc5239fce9d",
   "metadata": {},
   "source": [
    "Python 内置常量"
   ]
  },
  {
   "cell_type": "code",
   "execution_count": null,
   "id": "376602fc-ec8c-4387-952d-3f9b56bf198c",
   "metadata": {},
   "outputs": [],
   "source": [
    "# 布尔值：True & False\n",
    "print(True)\n",
    "print(False)\n",
    "\n",
    "# 空值: None\n",
    "print(None)\n",
    "\n",
    "# Ellipsis\n",
    "print(...)              # 用作占位符，作用同 pass 语句。\n",
    "if Ellipsis == ...:     # 两种表示方法：1. Ellipsis；2. 三个点（...）；\n",
    "    print(...)"
   ]
  },
  {
   "cell_type": "markdown",
   "id": "6da653b5-478e-4ee7-8d3e-547b00f25a58",
   "metadata": {},
   "source": [
    "## Demo 2.4\n",
    "\n",
    "命名空间"
   ]
  },
  {
   "cell_type": "code",
   "execution_count": null,
   "id": "5b10316e-1ca5-4efd-b0bf-9d562b6f6abe",
   "metadata": {},
   "outputs": [],
   "source": [
    "print(abs) # 👈，abs 是 内置名称\n",
    "var1 = 5 # 👈，var1是 全局名称\n",
    "def some_func():\n",
    "    var2 = 6 # 👈，var2是 局部名称\n",
    "    def some_inner_func():\n",
    "        var3 = 7 # 👈，var3是内嵌的 局部名称"
   ]
  },
  {
   "cell_type": "code",
   "execution_count": 3,
   "id": "32f4b740-5dfa-4ebe-8e85-ae0859e52fdd",
   "metadata": {},
   "outputs": [
    {
     "name": "stdout",
     "output_type": "stream",
     "text": [
      "<built-in function abs>\n",
      "5\n",
      "[1, 2, 3]\n",
      "5\n",
      "5\n"
     ]
    }
   ],
   "source": [
    "print(abs)    # 👈 内置名称（不要修改！）\n",
    "\n",
    "var = 5    # 👈 全局名称\n",
    "print(var)\n",
    "\n",
    "def demo_func1():\n",
    "    var = [1, 2, 3]    # 👈 局部名称\n",
    "    print(var)\n",
    "\n",
    "def demo_func2():\n",
    "    print(var)    # 👈 查询、使用：全局名称\n",
    "\n",
    "\n",
    "demo_func1()\n",
    "demo_func2()\n",
    "\n",
    "print(var)"
   ]
  },
  {
   "cell_type": "markdown",
   "id": "8291d104-af24-477e-ba8d-1fc04ce35e17",
   "metadata": {},
   "source": [
    "## Demo 2.5\n",
    "\n",
    "作用域"
   ]
  },
  {
   "cell_type": "code",
   "execution_count": null,
   "id": "f8544623-1972-4b7f-a019-ac5a982080c4",
   "metadata": {},
   "outputs": [],
   "source": [
    "global_var = 0    # 👈 全局作用域（G）\n",
    "\n",
    "def func_outer():\n",
    "    enclosing_var = 1    # 👈 闭包作用域（E）\n",
    "    def func_inner():\n",
    "        local_var = 2    # 👈 局部作用域（L）\n",
    "\n",
    "# 👇 内置作用域（B）\n",
    "import builtins\n",
    "print(dir(builtins))    # 👈 打印 Python 解释器的所有内建函数及类"
   ]
  },
  {
   "cell_type": "markdown",
   "id": "fe0b8987-8cf1-4cb0-a391-c7995d95926a",
   "metadata": {},
   "source": [
    "## Demo 2.6"
   ]
  },
  {
   "cell_type": "markdown",
   "id": "ef6ca491-e74c-4989-b7ea-c71cb84d848f",
   "metadata": {},
   "source": [
    "语句\n",
    "\n",
    "- [😀Offical Python Docs：字符串字面值合并](https://docs.python.org/zh-cn/3/reference/lexical_analysis.html#string-literal-concatenation)"
   ]
  },
  {
   "cell_type": "code",
   "execution_count": 10,
   "id": "cc3d3209-f949-476c-959e-34b239b585ad",
   "metadata": {},
   "outputs": [
    {
     "name": "stdout",
     "output_type": "stream",
     "text": [
      "Now is 1259369.2458395\n",
      "[1, 2, 3, 4, 5, 6, 7, 8, 9] [[1, 2, 3], [4, 5, 6], [7, 8, 9]]\n",
      "My name is John,I'm 18 years old.\n"
     ]
    }
   ],
   "source": [
    "# 一行多句\n",
    "import time; print(f\"Now is {time.perf_counter()}\")\n",
    "\n",
    "# 一句多行\n",
    "variable = [1, 2, 3] + \\\n",
    "           [4, 5, 6] + \\\n",
    "           [7, 8, 9]\n",
    "matrix = [[1, 2, 3],\n",
    "          [4, 5, 6],\n",
    "          [7, 8, 9]]\n",
    "print(variable, matrix)\n",
    "print(f\"My name is John,\"\n",
    "      f\"I'm 18 years old.\")"
   ]
  },
  {
   "cell_type": "markdown",
   "id": "c146f6fc-bcc1-482b-974a-4e61bda32d15",
   "metadata": {},
   "source": [
    "缩进/代码块"
   ]
  },
  {
   "cell_type": "code",
   "execution_count": null,
   "id": "a9b21256-6e42-4c6d-9982-6fc430257d26",
   "metadata": {},
   "outputs": [],
   "source": [
    "# 正确的 缩进/代码块 使用\n",
    "if 2 < 3:       # 👈这类复合语句，分号后的代码块称为一个 “子句”\n",
    "    print(\"Hello\")      # 👈这两句就是一个 代码块/代码组\n",
    "    print(\"World\")"
   ]
  },
  {
   "cell_type": "code",
   "execution_count": 11,
   "id": "6b281015-2836-4536-8f57-d3b115020ad0",
   "metadata": {},
   "outputs": [
    {
     "ename": "IndentationError",
     "evalue": "unexpected indent (716543731.py, line 4)",
     "output_type": "error",
     "traceback": [
      "\u001b[1;36m  Cell \u001b[1;32mIn[11], line 4\u001b[1;36m\u001b[0m\n\u001b[1;33m    print(\"Hello\")\u001b[0m\n\u001b[1;37m    ^\u001b[0m\n\u001b[1;31mIndentationError\u001b[0m\u001b[1;31m:\u001b[0m unexpected indent\n"
     ]
    }
   ],
   "source": [
    "# 错误的 缩进/代码块 使用\n",
    "var1 = 1\n",
    "var2 = 2\n",
    "    print(\"Hello\")\n",
    "    print(var1)"
   ]
  },
  {
   "cell_type": "markdown",
   "id": "54bc996a-ada2-4ff1-8aa9-d689afbe6402",
   "metadata": {},
   "source": [
    "## Demo 2.7\n",
    "\n",
    "注释"
   ]
  },
  {
   "cell_type": "code",
   "execution_count": null,
   "id": "c4858569-f4e9-4893-9705-06335cfba89e",
   "metadata": {},
   "outputs": [],
   "source": [
    "\"\"\"\n",
    "多行注释 line1\n",
    "多行注释 line2\n",
    "\"\"\"\n",
    "\n",
    "'''\n",
    "多行注释 line1\n",
    "多行注释 line2\n",
    "'''\n",
    "\n",
    "# 单行注释1\n",
    "print(\"Hello, World!\")      # 单行注释2"
   ]
  },
  {
   "cell_type": "markdown",
   "id": "70c08dfd-dfe1-48d9-bbcb-5e400c8b2702",
   "metadata": {},
   "source": [
    "## Demo 2.8\n",
    "\n",
    "空行/空语句"
   ]
  },
  {
   "cell_type": "code",
   "execution_count": null,
   "id": "efe9532f-254c-4f38-bd10-bb06ceb26a54",
   "metadata": {},
   "outputs": [],
   "source": [
    "if True:\n",
    "    pass\n",
    "else:\n",
    "    pass\n",
    "\n",
    "def demo_func():\n",
    "    pass    # TODO"
   ]
  },
  {
   "cell_type": "code",
   "execution_count": null,
   "id": "4445f69c-eac2-47b5-bcb6-3df961695344",
   "metadata": {},
   "outputs": [],
   "source": [
    "if ...:\n",
    "    ...\n",
    "\n",
    "def demo_func():\n",
    "    ...    # TODO"
   ]
  },
  {
   "cell_type": "markdown",
   "id": "dbf0fb66-a539-43c7-8440-4d69a5416e46",
   "metadata": {},
   "source": [
    "## Demo 2.9\n",
    "\n",
    "运算符（3类7种）"
   ]
  },
  {
   "cell_type": "markdown",
   "id": "91764047-5f9e-4e23-a527-9fe4ba2b9c6d",
   "metadata": {},
   "source": [
    "### 1.1 Python 算术运算符\n",
    "\n",
    "- 两数相除时总是返回浮点数结果，尽管两数均为整数类型；\n",
    "- 在其他运算中，如果有一个操作数是浮点数，那么结果也是浮点数；"
   ]
  },
  {
   "cell_type": "code",
   "execution_count": null,
   "id": "3999d9d1-ab16-4393-930a-232348ccdb4a",
   "metadata": {},
   "outputs": [],
   "source": [
    "operand1, operand2 = 1242, 2\n",
    "print(f\"{operand1} + {operand2} = {operand1 + operand2}\")       # 加法 +\n",
    "print(f\"{operand1} - {operand2} = {operand1 - operand2}\")       # 减法 -\n",
    "print(f\"{operand1} * {operand2} = {operand1 * operand2}\")       # 乘法 *\n",
    "print(f\"{operand1} / {operand2} = {operand1 / operand2}\")       # 除法 /\n",
    "print(f\"{operand1} // {operand2} = {operand1 // operand2}\")     # 整除 //\n",
    "print(f\"{operand1} % {operand2} = {operand1 % operand2}\")       # 取余 %\n",
    "print(f\"{operand1} ** {operand2} = {operand1 ** operand2}\")     # 幂运算 **"
   ]
  },
  {
   "cell_type": "markdown",
   "id": "8eeb4ec9-b1c7-4ea2-97fe-498e0f90bee0",
   "metadata": {},
   "source": [
    "### 1.2 Python 位运算符\n",
    "\n",
    "- Python 中的移位运算均为逻辑移位；"
   ]
  },
  {
   "cell_type": "code",
   "execution_count": 12,
   "id": "9e7e09df-1c34-46ac-8319-88e1d6293b3c",
   "metadata": {},
   "outputs": [
    {
     "name": "stdout",
     "output_type": "stream",
     "text": [
      "0b1111011 & 0b1110010 = 0b1110010\n",
      "0b1111011 | 0b1110010 = 0b1111011\n",
      "0b1111011 ^ 0b1110010 = 0b1001\n",
      "~0b1110010 = -0b1110011\n",
      "0b1111011 << 2 = 0b111101100\n",
      "0b1111011 >> 2 = 0b11110\n"
     ]
    }
   ],
   "source": [
    "operand1, operand2 = 123, 114\n",
    "print(f\"{bin(operand1)} & {bin(operand2)} = {bin(operand1 & operand2)}\")    # 按位与 &\n",
    "print(f\"{bin(operand1)} | {bin(operand2)} = {bin(operand1 | operand2)}\")    # 按位或 |\n",
    "print(f\"{bin(operand1)} ^ {bin(operand2)} = {bin(operand1 ^ operand2)}\")    # 按位异或 ^\n",
    "print(f\"~{bin(operand2)} = {bin(~operand2)}\")                               # 按位非 ~\n",
    "print(f\"{bin(operand1)} << {2} = {bin(operand1 << 2)}\")                     # 逻辑左移 <<\n",
    "print(f\"{bin(operand1)} >> {2} = {bin(operand1 >> 2)}\")                     # 逻辑右移 >>"
   ]
  },
  {
   "cell_type": "markdown",
   "id": "eb3073e7-72d9-416c-9932-ef21b693b6af",
   "metadata": {},
   "source": [
    "### 2.1 Python 比较运算符\n",
    "\n",
    "- Python允许连续比较，`a <= b <= c` 经解释器后等价于：`a <= b and b <= c`；"
   ]
  },
  {
   "cell_type": "code",
   "execution_count": null,
   "id": "a9153210-ee58-4a77-b303-9caf5fdec497",
   "metadata": {},
   "outputs": [],
   "source": [
    "operand1, operand2 = 1242, 213\n",
    "print(f\"The result of {operand1} == {operand2} is: {operand1 == operand2}\")     # 等于 ==\n",
    "print(f\"The result of {operand1} != {operand2} is: {operand1 != operand2}\")     # 不等于 !=\n",
    "print(f\"The result of {operand1} < {operand2} is: {operand1 < operand2}\")       # 小于 <\n",
    "print(f\"The result of {operand1} <= {operand2} is: {operand1 <= operand2}\")     # 小于等于 <=\n",
    "print(f\"The result of {operand1} > {operand2} is: {operand1 > operand2}\")       # 大于 >\n",
    "print(f\"The result of {operand1} >= {operand2} is: {operand1 >= operand2}\")     # 大于等于 >=\n",
    "if(123 <= 2342 <= 3242): print(\"Good!\")\n",
    "# 语法糖：Python允许连续比较，a <= b <= c经解释器后等价于：a <= b and b <= c"
   ]
  },
  {
   "cell_type": "markdown",
   "id": "c48b21bf-bb47-45b4-b839-907326908291",
   "metadata": {},
   "source": [
    "### 2.2 Python 成员运算符"
   ]
  },
  {
   "cell_type": "code",
   "execution_count": 13,
   "id": "f68240c2-45fc-4314-a743-caa8f9e528cc",
   "metadata": {},
   "outputs": [
    {
     "name": "stdout",
     "output_type": "stream",
     "text": [
      "The result of '3 in [1, 2, 3, 4, 5, 6]' is True\n",
      "The result of '89 not in [1, 2, 3, 4, 5, 6]' is True\n"
     ]
    }
   ],
   "source": [
    "lst = [1, 2, 3, 4, 5, 6]\n",
    "target1, target2 = 89, 3\n",
    "\n",
    "# x in y：判断 x 是否存在于 y 中\n",
    "print(f\"The result of '{target2} in {lst}' is {target2 in lst}\")\n",
    "# x not in y：判断 x 是否不存在于 y 中\n",
    "print(f\"The result of '{target1} not in {lst}' is {target1 not in lst}\")"
   ]
  },
  {
   "cell_type": "markdown",
   "id": "79a3988b-e33a-45b7-ad7a-fb893d537889",
   "metadata": {},
   "source": [
    "### 2.3 Python 身份运算符\n",
    "\n",
    "- 判断两个标识符是否指向同一程序实体，身份运算符 `is` 用于判断两个变量引用对象是否为同一个，比较运算符 `==` 则用于判断引用变量所指向的程序实体的值是否相等；"
   ]
  },
  {
   "cell_type": "code",
   "execution_count": null,
   "id": "81ab3627-82e1-4fa4-9a35-3f29d57e9feb",
   "metadata": {},
   "outputs": [],
   "source": [
    "lst1 = list(range(6))\n",
    "lst2, lst3 = lst1, lst1.copy()\n",
    "\n",
    "# is：x is y，判断 x 是否和 y 指向同一个程序实体\n",
    "print(f\"The result of 'lst2 is lst1' is: {lst2 is lst1}\")\n",
    "# not is：x not is y，判断 x 是否和 y 不指向同一个程序实体\n",
    "print(f\"The result of 'lst3 is not lst1' is: {lst3 is not lst1}\")"
   ]
  },
  {
   "cell_type": "markdown",
   "id": "d5b42104-8e0b-43b6-adb4-3f88d2ec2c04",
   "metadata": {},
   "source": [
    "### 2.4 Python 逻辑运算符\n",
    "\n",
    "- Python 逻辑运算遵循 短路求值原则；\n",
    "- 逻辑运算符优先级：`not` > `and` > `or`；"
   ]
  },
  {
   "cell_type": "code",
   "execution_count": null,
   "id": "fae3b23a-0dd4-46fb-96e1-4a2a50525fa0",
   "metadata": {},
   "outputs": [],
   "source": [
    "print(f\"{[4] and {1, 2, 3}}\")\n",
    "print(f\"{True} and {False} is: {True and False}\")   # 逻辑与\n",
    "print(f\"{True} or {False} is: {True or False}\")     # 逻辑或\n",
    "print(f\"not {True} is: {not True}\")                 # 逻辑非"
   ]
  },
  {
   "cell_type": "code",
   "execution_count": null,
   "id": "993b933b-f410-4b07-a12f-3c456986ec1c",
   "metadata": {},
   "outputs": [],
   "source": [
    "# 短路求值演示\n",
    "\n",
    "var1, var2 = 0, 0\n",
    "\n",
    "(var1 := True) or (var2 := [1, 2, 3])\n",
    "print(var1, var2)\n",
    "\n",
    "(var1 := False) and (var2 := [1, 2, 3])\n",
    "print(var1, var2)"
   ]
  },
  {
   "cell_type": "markdown",
   "id": "391fd67d-bbf4-4f10-895f-de4ea9d3a80a",
   "metadata": {},
   "source": [
    "### 3.1 Python 赋值运算符\n",
    "\n",
    "- 普通赋值的特殊用法：1. 批量赋值；2. 链式赋值；3. 解包赋值；4. 打包赋值；\n",
    "- 海象运算符；\n",
    "- 复合赋值运算符；"
   ]
  },
  {
   "cell_type": "code",
   "execution_count": null,
   "id": "5adbb519-19e1-4644-a61f-e0d4fb371ac8",
   "metadata": {},
   "outputs": [],
   "source": [
    "operand1, operand2 = 123, 1324"
   ]
  },
  {
   "cell_type": "code",
   "execution_count": null,
   "id": "13b65f2b-fa9e-4dcf-aaac-321e8ec553e0",
   "metadata": {},
   "outputs": [],
   "source": [
    "# 普通赋值 =\n",
    "operand1 = 123; operand1 = operand2\n",
    "\n",
    "print(operand1, operand2)"
   ]
  },
  {
   "cell_type": "code",
   "execution_count": null,
   "id": "6539366c-9317-463c-9511-57b155fde2f5",
   "metadata": {},
   "outputs": [],
   "source": [
    "# 1. 批量赋值：一次性赋值多个变量\n",
    "a, b, c, d, e = 1, 2, 3, 4, 5\n",
    "a, b = b, c    # 可用于变量交换值\n",
    "\n",
    "print(a, b, c, d, e)"
   ]
  },
  {
   "cell_type": "code",
   "execution_count": null,
   "id": "b2308434-e4f8-4068-947a-7ea820414ae1",
   "metadata": {},
   "outputs": [],
   "source": [
    "# 2. 链式赋值：从右往左赋值，所有值均为 1\n",
    "a = b = c = d = 1\n",
    "\n",
    "print(a, b, c, d)"
   ]
  },
  {
   "cell_type": "code",
   "execution_count": null,
   "id": "3607a1e0-ac59-4581-ae3d-835d727c18fd",
   "metadata": {},
   "outputs": [],
   "source": [
    "# 3. 解包赋值：将一个列表/元组的元素序列取出，依次赋值给左侧的多个变量（变量数需等于列表/元组长度）\n",
    "a, b, c = [1, 2, 3]\n",
    "a, b, c = (4, 5, 6)    # 左侧变量可追加\n",
    "print(a, b, c, sep=',')"
   ]
  },
  {
   "cell_type": "code",
   "execution_count": 14,
   "id": "db9381ef-c563-4500-ae40-a61c2a6d02de",
   "metadata": {},
   "outputs": [
    {
     "name": "stdout",
     "output_type": "stream",
     "text": [
      "1,[2, 3, 4],5\n",
      "[1, 2, 3],4,5\n",
      "1,2,[3, 4, 5]\n"
     ]
    }
   ],
   "source": [
    "# 4. 打包赋值\n",
    "a, *b, c = 1, 2, 3, 4, 5\n",
    "print(a, b, c, sep=',')\n",
    "*a, b, c = 1, 2, 3, 4, 5\n",
    "print(a, b, c, sep=',')\n",
    "a, b, *c = 1, 2, 3, 4, 5\n",
    "print(a, b, c, sep=',')"
   ]
  },
  {
   "cell_type": "code",
   "execution_count": 15,
   "id": "81be0331-6baa-4f9e-a4fb-036cea46a4c2",
   "metadata": {},
   "outputs": [
    {
     "name": "stdout",
     "output_type": "stream",
     "text": [
      "1324\n",
      "1324\n"
     ]
    }
   ],
   "source": [
    "# 海象运算 :=，Python3.8新增，可在表达式内部为变量赋值，返回值为右侧值\n",
    "operand1, operand2 = 123, 1324\n",
    "print(operand1 := operand2)\n",
    "print(operand1)"
   ]
  },
  {
   "cell_type": "code",
   "execution_count": null,
   "id": "2081a01f-6bf6-4e75-be24-a4fde980d2c5",
   "metadata": {},
   "outputs": [],
   "source": [
    "# 复合赋值运算符\n",
    "operand1 = 123; operand1 += operand2    # 加等于 +=\n",
    "operand1 = 123; operand1 -= operand2    # 减等于 -=\n",
    "operand1 = 123; operand1 *= operand2    # 乘等于 *=\n",
    "operand1 = 123; operand1 /= operand2    # 除等于 /=\n",
    "operand1 = 123; operand1 //= operand2   # 整除等于 //=\n",
    "operand1 = 123; operand1 %= operand2    # 模等于 %=\n",
    "operand1 = 123; operand1 **= operand2   # 幂等于 **="
   ]
  },
  {
   "cell_type": "markdown",
   "id": "6bd7e70f-994f-45b1-bf9e-2f532e7ff3b1",
   "metadata": {},
   "source": [
    "### Python 条件表达式\n",
    "\n",
    "- Python 条件表达式相当于 C/Cpp 中的三目运算符；\n",
    "- 语法：`<True_rst> if <cond> else <False_rst>`；"
   ]
  },
  {
   "cell_type": "code",
   "execution_count": 16,
   "id": "842f6413-75bd-4a71-894f-d16f84d268c9",
   "metadata": {},
   "outputs": [
    {
     "name": "stdout",
     "output_type": "stream",
     "text": [
      "False\n"
     ]
    }
   ],
   "source": [
    "variable = True if 214 > 2415 else False\n",
    "\n",
    "print(variable)\n",
    "'''variable= 234>2145?True:False'''"
   ]
  },
  {
   "cell_type": "markdown",
   "id": "9f6a630b",
   "metadata": {},
   "source": []
  },
  {
   "cell_type": "markdown",
   "id": "b7cc9f82-980d-4982-9279-8f4470f0bf00",
   "metadata": {},
   "source": [
    "## Demo 2.10"
   ]
  },
  {
   "cell_type": "markdown",
   "id": "3a3856bc-3c6d-4a40-a7fd-1cff657b20bd",
   "metadata": {},
   "source": [
    "简单语句组"
   ]
  },
  {
   "cell_type": "code",
   "execution_count": null,
   "id": "1179bc6e-3d07-4de3-aca4-6966a1aa621b",
   "metadata": {},
   "outputs": [],
   "source": [
    "if True: print(\"Hello\")\n",
    "if False: print(\"World\")"
   ]
  },
  {
   "cell_type": "markdown",
   "id": "05ef2268-7ad0-44aa-be77-20f449e95601",
   "metadata": {},
   "source": [
    "条件测试/布尔表达式"
   ]
  },
  {
   "cell_type": "code",
   "execution_count": null,
   "id": "5bf25a59-0983-408a-a36e-7b5e8e034539",
   "metadata": {},
   "outputs": [],
   "source": [
    "# 布尔表达式\n",
    "114 == 342; 2342 > 2342; 5345 < 2342;       # 1. 比较运算符\n",
    "234 in [1342, 234, 3424, 54434]             # 2. 成员运算符\n",
    "list(range(3)) is list(range(4))            # 3. 身份运算符\n",
    "True and False                              # 4. 逻辑运算符\n",
    "\n",
    "# 数字/列表/元组/字典/集合 直接作为条件\n",
    "if not [] and 1: pass"
   ]
  },
  {
   "cell_type": "markdown",
   "id": "f3ef03ec-6d01-4516-9cab-9a48a676457c",
   "metadata": {},
   "source": [
    "### 1.1 条件流程 if-else"
   ]
  },
  {
   "cell_type": "code",
   "execution_count": null,
   "id": "569a03ac-7293-4c53-8350-4583ea50db5d",
   "metadata": {},
   "outputs": [],
   "source": [
    "score = 84\n",
    "\n",
    "# 1.1.条件流程——if-else语句\n",
    "if score < 60:          # 条件1（cond1）\n",
    "    print(\"Not pass\")   # 👈满足cond1，执行该代码块\n",
    "    ...\n",
    "else: #（可选）\n",
    "    print(\"Pass\")       # 👈不满足cond1，执行该代码块\n",
    "    ...\n",
    "\n",
    "if score < 60:          # 条件1（cond1）\n",
    "    print(\"Not pass\")   # 👈满足cond1，执行该代码块\n",
    "    ...\n",
    "# 👇不使用else。不满足cond1，执行之后代码\n",
    "..."
   ]
  },
  {
   "cell_type": "markdown",
   "id": "c9121669-20cd-4a18-89ea-e079e104fffa",
   "metadata": {},
   "source": [
    "### 1.2 条件流程 if-elif-else"
   ]
  },
  {
   "cell_type": "code",
   "execution_count": null,
   "id": "d6ea5bd8-738c-4f5d-b5a3-05c34718576e",
   "metadata": {},
   "outputs": [],
   "source": [
    "score = 84\n",
    "\n",
    "# 1.2.条件流程——if-elif-else语句\n",
    "# if（必须） + elif（可有多个，每个elif条件都蕴涵了对前序所有条件的否定）+else（可选的）\n",
    "if score > 85:          # 条件1（cond1）\n",
    "    print(\"Perfect!\")   # 👈满足cond1，执行该代码块\n",
    "    ...\n",
    "elif score > 60:        # cond2：蕴含了not cond1\n",
    "    print(\"Pass\")       # 👈满足not cond1，cond2，执行该代码块\n",
    "    ...\n",
    "elif score == 60:       # cond3：蕴含了not cond1, not cond2\n",
    "    print(\"Danger\")     # 👈满足not cond1, not cond2, cond3，执行该代码块\n",
    "    ...\n",
    "else: # (可选)\n",
    "    print(\"Not pass\")   # 👈所有的condx都不满足，执行该代码块\n",
    "    ..."
   ]
  },
  {
   "cell_type": "markdown",
   "id": "4db7e0a1-064c-4b8f-ae08-c9741ceba7e1",
   "metadata": {},
   "source": [
    "### 1.3 条件流程 match-case（Python 3.10+, Omit）\n",
    "\n",
    "- [😀 Python Offical Docs：match](https://docs.python.org/zh-cn/3/tutorial/controlflow.html#match-statements)"
   ]
  },
  {
   "cell_type": "markdown",
   "id": "879567d0-9bff-420d-99a0-082eaf671440",
   "metadata": {},
   "source": [
    "### 2.1 循环流程 while-else"
   ]
  },
  {
   "cell_type": "code",
   "execution_count": 17,
   "id": "0c494d60-0b02-43d6-8a87-2e50aa2a3c56",
   "metadata": {},
   "outputs": [],
   "source": [
    "score = 84\n",
    "\n",
    "# 2.1.循环流程——while-else语句\n",
    "while score > 0:    # 👈循环条件（cond）：使用True作为条件时，表示无限循环\n",
    "    pass            # 👈循环体：满足循环条件时执行该循环体\n",
    "    ...\n",
    "    score //= 10    # 👈状态更新：每轮循环更新循环条件相关变量\n",
    "else:   # （可选）\n",
    "    pass            # 当循环条件cond判定为False时，执行该代码块\n",
    "    ..."
   ]
  },
  {
   "cell_type": "code",
   "execution_count": null,
   "id": "a0b82ad3-5a4e-4704-ad90-afbb4351de84",
   "metadata": {},
   "outputs": [],
   "source": [
    "# 👇e.g.1：使用标志 flag 实现的，用于判断一个数字是否为素数的程序\n",
    "number = 123\n",
    "is_prime_number = True              # 👈：设置标志位\n",
    "i, end = 2, int(123 ** (0.5))\n",
    "while i <= end:\n",
    "    if number % i == 0:\n",
    "        is_prime_number = False         # 👈：循环判定\n",
    "        break\n",
    "    i += 1\n",
    "if is_prime_number:             # 👈：最终通过条件分支统一处理结果\n",
    "    print(f\"The number {number} is not a prime number.\")\n",
    "else:\n",
    "    print(f\"The number {number} is a prime number.\")\n",
    "\n",
    "\n",
    "# 👇e.g.2：使用 while-else 实现的，用于判断一个数字是否为素数的程序\n",
    "number = 123\n",
    "i, end = 2, int(123 ** (0.5))\n",
    "while i <= end:\n",
    "    if number % i == 0:\n",
    "        print(f\"The number {number} is not a prime number.\")    # 👈：输入 x，从 2 到 x开方尝试取模，如果整除，打印说明其不是素数\n",
    "        break                                                   # 👈：break 跳出循环，这意味着不会执行 while-else 中的 else 分支\n",
    "    i += 1\n",
    "else:\n",
    "    print(f\"The number {number} is a prime number.\")    # 👈：只有当 while 执行到不满足循环条件自然退出，不通过 break 退出时，才执行 else"
   ]
  },
  {
   "cell_type": "markdown",
   "id": "ab2d7152-eabe-4921-804c-0a7a3831d570",
   "metadata": {},
   "source": [
    "### 2.2 循环流程 for-else"
   ]
  },
  {
   "cell_type": "code",
   "execution_count": null,
   "id": "fae1d145-a2c6-423e-944f-669113ba61c5",
   "metadata": {},
   "outputs": [],
   "source": [
    "# 2.2.循环流程——for-else语句\n",
    "for idx in range(100):  # 👈通过下标循环\n",
    "    pass\n",
    "    ...\n",
    "\n",
    "list_obj = [\"234\", \"24\"]\n",
    "for ele in list_obj:    # 👈直接遍历可迭代对象元素\n",
    "    pass\n",
    "    ...\n",
    "else:   # （可选）\n",
    "    pass                # 当循环条件不符合时，执行该代码块\n",
    "    ..."
   ]
  },
  {
   "cell_type": "markdown",
   "id": "5fe4b598-99ba-438a-acf4-c0846c6ba217",
   "metadata": {},
   "source": [
    "### 2.3 循环控制语句 break/continue"
   ]
  },
  {
   "cell_type": "code",
   "execution_count": null,
   "id": "8aebe87d-9688-4cd6-a0f9-268f03495083",
   "metadata": {},
   "outputs": [],
   "source": [
    "for i in range(10):\n",
    "    if i == 5: continue\n",
    "    print(i)"
   ]
  },
  {
   "cell_type": "code",
   "execution_count": null,
   "id": "333337b8-38d1-4341-83de-14a5ba064fa0",
   "metadata": {},
   "outputs": [],
   "source": [
    "for i in range(10):\n",
    "    if i == 5: break\n",
    "    print(i)"
   ]
  },
  {
   "cell_type": "markdown",
   "id": "99e07af7-4dfb-49cb-a1a4-1613624766eb",
   "metadata": {},
   "source": [
    "# Demo 3"
   ]
  },
  {
   "cell_type": "code",
   "execution_count": null,
   "id": "58587976-9dcc-41a4-af78-af7a829994b1",
   "metadata": {},
   "outputs": [],
   "source": []
  }
 ],
 "metadata": {
  "kernelspec": {
   "display_name": "Python 3",
   "language": "python",
   "name": "python3"
  },
  "language_info": {
   "codemirror_mode": {
    "name": "ipython",
    "version": 3
   },
   "file_extension": ".py",
   "mimetype": "text/x-python",
   "name": "python",
   "nbconvert_exporter": "python",
   "pygments_lexer": "ipython3",
   "version": "3.12.7"
  }
 },
 "nbformat": 4,
 "nbformat_minor": 5
}
